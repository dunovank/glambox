{
 "cells": [
  {
   "cell_type": "code",
   "execution_count": 10,
   "metadata": {
    "collapsed": false
   },
   "outputs": [],
   "source": [
    "import numpy as np\n",
    "import pandas as pd\n",
    "\n",
    "import matplotlib.pyplot as plt\n",
    "%matplotlib inline \n",
    "\n",
    "from pymc3 import traceplot\n",
    "\n",
    "import glam\n",
    "\n",
    "%load_ext autoreload\n",
    "%autoreload 2"
   ]
  },
  {
   "cell_type": "markdown",
   "metadata": {},
   "source": [
    "# Test Case 2: Within-participant design\n",
    "\n",
    "In the second test case we demonstrate the use of the model for a within-participant design. Here, each participant performs multiple conditions that are hypothesized to affect participants' gaze bias $\\gamma$ and general processing speed $v$. There are four conditions in total:\n",
    "\n",
    "1. High Bias &  Fast Speed\n",
    "2. High Bias &  Slow Speed\n",
    "3. Low Bias & Fast Speed\n",
    "4. Low Bias & Slow Speed"
   ]
  },
  {
   "cell_type": "markdown",
   "metadata": {},
   "source": [
    "# Simulating data"
   ]
  },
  {
   "cell_type": "markdown",
   "metadata": {},
   "source": [
    "First, we simulate data of 20 participants, with 50 trials in each condition."
   ]
  },
  {
   "cell_type": "code",
   "execution_count": 11,
   "metadata": {
    "collapsed": false
   },
   "outputs": [
    {
     "name": "stdout",
     "output_type": "stream",
     "text": [
      "high gamma mean: -0.34522428053237886\n",
      "low gamma mean: 0.43362400765680814\n",
      "fast v mean: 0.0001\n",
      "slow v mean: 6e-05\n"
     ]
    },
    {
     "data": {
      "text/html": [
       "<div>\n",
       "<style scoped>\n",
       "    .dataframe tbody tr th:only-of-type {\n",
       "        vertical-align: middle;\n",
       "    }\n",
       "\n",
       "    .dataframe tbody tr th {\n",
       "        vertical-align: top;\n",
       "    }\n",
       "\n",
       "    .dataframe thead th {\n",
       "        text-align: right;\n",
       "    }\n",
       "</style>\n",
       "<table border=\"1\" class=\"dataframe\">\n",
       "  <thead>\n",
       "    <tr style=\"text-align: right;\">\n",
       "      <th></th>\n",
       "      <th>choice</th>\n",
       "      <th>repeat</th>\n",
       "      <th>rt</th>\n",
       "      <th>subject</th>\n",
       "      <th>trial</th>\n",
       "      <th>item_value_0</th>\n",
       "      <th>gaze_0</th>\n",
       "      <th>item_value_1</th>\n",
       "      <th>gaze_1</th>\n",
       "      <th>item_value_2</th>\n",
       "      <th>gaze_2</th>\n",
       "      <th>condition</th>\n",
       "    </tr>\n",
       "  </thead>\n",
       "  <tbody>\n",
       "    <tr>\n",
       "      <th>0</th>\n",
       "      <td>2.0</td>\n",
       "      <td>0.0</td>\n",
       "      <td>1430.0</td>\n",
       "      <td>0.0</td>\n",
       "      <td>0.0</td>\n",
       "      <td>8</td>\n",
       "      <td>0.133815</td>\n",
       "      <td>7</td>\n",
       "      <td>0.430113</td>\n",
       "      <td>8</td>\n",
       "      <td>0.436072</td>\n",
       "      <td>high_fast</td>\n",
       "    </tr>\n",
       "    <tr>\n",
       "      <th>1</th>\n",
       "      <td>0.0</td>\n",
       "      <td>0.0</td>\n",
       "      <td>1744.0</td>\n",
       "      <td>0.0</td>\n",
       "      <td>1.0</td>\n",
       "      <td>1</td>\n",
       "      <td>0.423586</td>\n",
       "      <td>0</td>\n",
       "      <td>0.394485</td>\n",
       "      <td>5</td>\n",
       "      <td>0.181930</td>\n",
       "      <td>high_fast</td>\n",
       "    </tr>\n",
       "    <tr>\n",
       "      <th>2</th>\n",
       "      <td>1.0</td>\n",
       "      <td>0.0</td>\n",
       "      <td>1623.0</td>\n",
       "      <td>0.0</td>\n",
       "      <td>2.0</td>\n",
       "      <td>4</td>\n",
       "      <td>0.083598</td>\n",
       "      <td>1</td>\n",
       "      <td>0.845511</td>\n",
       "      <td>5</td>\n",
       "      <td>0.070891</td>\n",
       "      <td>high_fast</td>\n",
       "    </tr>\n",
       "    <tr>\n",
       "      <th>3</th>\n",
       "      <td>1.0</td>\n",
       "      <td>0.0</td>\n",
       "      <td>1403.0</td>\n",
       "      <td>0.0</td>\n",
       "      <td>3.0</td>\n",
       "      <td>4</td>\n",
       "      <td>0.424859</td>\n",
       "      <td>7</td>\n",
       "      <td>0.349890</td>\n",
       "      <td>6</td>\n",
       "      <td>0.225251</td>\n",
       "      <td>high_fast</td>\n",
       "    </tr>\n",
       "    <tr>\n",
       "      <th>4</th>\n",
       "      <td>2.0</td>\n",
       "      <td>0.0</td>\n",
       "      <td>1684.0</td>\n",
       "      <td>0.0</td>\n",
       "      <td>4.0</td>\n",
       "      <td>0</td>\n",
       "      <td>0.271260</td>\n",
       "      <td>0</td>\n",
       "      <td>0.386366</td>\n",
       "      <td>9</td>\n",
       "      <td>0.342374</td>\n",
       "      <td>high_fast</td>\n",
       "    </tr>\n",
       "  </tbody>\n",
       "</table>\n",
       "</div>"
      ],
      "text/plain": [
       "   choice  repeat      rt  subject  trial  item_value_0    gaze_0  \\\n",
       "0     2.0     0.0  1430.0      0.0    0.0             8  0.133815   \n",
       "1     0.0     0.0  1744.0      0.0    1.0             1  0.423586   \n",
       "2     1.0     0.0  1623.0      0.0    2.0             4  0.083598   \n",
       "3     1.0     0.0  1403.0      0.0    3.0             4  0.424859   \n",
       "4     2.0     0.0  1684.0      0.0    4.0             0  0.271260   \n",
       "\n",
       "   item_value_1    gaze_1  item_value_2    gaze_2  condition  \n",
       "0             7  0.430113             8  0.436072  high_fast  \n",
       "1             0  0.394485             5  0.181930  high_fast  \n",
       "2             1  0.845511             5  0.070891  high_fast  \n",
       "3             7  0.349890             6  0.225251  high_fast  \n",
       "4             0  0.386366             9  0.342374  high_fast  "
      ]
     },
     "execution_count": 11,
     "metadata": {},
     "output_type": "execute_result"
    }
   ],
   "source": [
    "# Set the random seed, so that we can re-create exactly the same data, if we need to\n",
    "np.random.seed(3)\n",
    "\n",
    "# Setup up a GLAM model instance whose parameters will later be dependent on the \n",
    "# experiment conditions\n",
    "dependence_model = glam.GLAM()\n",
    "\n",
    "# There are 20 participants in total\n",
    "N = 3\n",
    "\n",
    "# Every participant performed 50 trials of each condition\n",
    "n_trials = 10\n",
    "n_items = 3\n",
    "\n",
    "# The conditions differ in their mean gaze-bias parameter\n",
    "gamma = dict(high=np.clip(np.random.normal(loc=-0.5, scale=0.2, size=N), -1.0, 1.0),\n",
    "             low=np.clip(np.random.normal(loc=0.6, scale=0.2, size=N), -1.0, 1.0))\n",
    "print('high gamma mean:', gamma['high'].mean())\n",
    "print('low gamma mean:', gamma['low'].mean())\n",
    "\n",
    "# and processing speed\n",
    "v = dict(fast=np.clip(np.random.normal(loc=0.0001, scale=0.00001, size=N), 1e-6, 0.01),\n",
    "         slow=np.clip(np.random.normal(loc=0.00006, scale=0.00001, size=N), 1e-6, 0.01))\n",
    "print('fast v mean:', v['fast'].mean().round(5))\n",
    "print('slow v mean:', v['slow'].mean().round(5))\n",
    "\n",
    "# other parameters are constant across conditions:\n",
    "s = np.clip(np.random.normal(loc=0.008, scale=0.002, size=N), 1e-8, 0.02)\n",
    "tau = np.clip(np.random.normal(loc=0.8, scale=0.05, size=N), 0.1, 3)\n",
    "t0 = np.zeros(N)\n",
    "\n",
    "# We now simulate data for each group, using the specific group details, we set up\n",
    "for bias in ['high', 'low']:\n",
    "    for speed in ['fast', 'slow']:\n",
    "        dependence_model.simulate_group(kind='individual',\n",
    "                                        n_individuals=N,\n",
    "                                        parameters=dict(gamma=gamma[bias],\n",
    "                                                       v=v[speed],\n",
    "                                                       s=s,\n",
    "                                                       tau=tau,\n",
    "                                                       t0=t0),\n",
    "                                        n_items=n_items,\n",
    "                                        n_trials=n_trials,\n",
    "                                        label=bias + '_' + speed,\n",
    "                                        individual_idx=np.arange(N)) # note the use of the individual_idx keyword, to simulate within-participant data\n",
    "\n",
    "# inspect data\n",
    "dependence_model.data.head()"
   ]
  },
  {
   "cell_type": "code",
   "execution_count": 12,
   "metadata": {
    "collapsed": false
   },
   "outputs": [
    {
     "data": {
      "text/plain": [
       "(array([1., 0., 0., 1., 0., 0., 0., 0., 0., 1.]),\n",
       " array([4.68613525e-05, 4.90598396e-05, 5.12583267e-05, 5.34568139e-05,\n",
       "        5.56553010e-05, 5.78537881e-05, 6.00522753e-05, 6.22507624e-05,\n",
       "        6.44492495e-05, 6.66477367e-05, 6.88462238e-05]),\n",
       " <a list of 10 Patch objects>)"
      ]
     },
     "execution_count": 12,
     "metadata": {},
     "output_type": "execute_result"
    },
    {
     "data": {
      "image/png": "[encoded data removed]",
      "text/plain": [
       "<matplotlib.figure.Figure at 0x120ba8ef0>"
      ]
     },
     "metadata": {},
     "output_type": "display_data"
    }
   ],
   "source": [
    "plt.hist(v['fast'])\n",
    "plt.hist(v['slow'])"
   ]
  },
  {
   "cell_type": "code",
   "execution_count": 13,
   "metadata": {
    "collapsed": false
   },
   "outputs": [
    {
     "data": {
      "text/plain": [
       "(array([1., 0., 0., 0., 0., 0., 0., 0., 1., 1.]),\n",
       " array([0.72267613, 0.72838513, 0.73409413, 0.73980313, 0.74551213,\n",
       "        0.75122113, 0.75693013, 0.76263913, 0.76834813, 0.77405713,\n",
       "        0.77976613]),\n",
       " <a list of 10 Patch objects>)"
      ]
     },
     "execution_count": 13,
     "metadata": {},
     "output_type": "execute_result"
    },
    {
     "data": {
      "image/png": "[encoded data removed]",
      "text/plain": [
       "<matplotlib.figure.Figure at 0x120b07d68>"
      ]
     },
     "metadata": {},
     "output_type": "display_data"
    }
   ],
   "source": [
    "plt.hist(tau)"
   ]
  },
  {
   "cell_type": "code",
   "execution_count": 14,
   "metadata": {
    "collapsed": false
   },
   "outputs": [
    {
     "data": {
      "text/plain": [
       "(array([1., 0., 0., 0., 0., 1., 0., 0., 0., 1.]),\n",
       " array([0.00810007, 0.00843198, 0.00876388, 0.00909579, 0.0094277 ,\n",
       "        0.00975961, 0.01009151, 0.01042342, 0.01075533, 0.01108724,\n",
       "        0.01141915]),\n",
       " <a list of 10 Patch objects>)"
      ]
     },
     "execution_count": 14,
     "metadata": {},
     "output_type": "execute_result"
    },
    {
     "data": {
      "image/png": "[encoded data removed]",
      "text/plain": [
       "<matplotlib.figure.Figure at 0x120b4d4a8>"
      ]
     },
     "metadata": {},
     "output_type": "display_data"
    }
   ],
   "source": [
    "plt.hist(s)"
   ]
  },
  {
   "cell_type": "markdown",
   "metadata": {},
   "source": [
    "The simulation method currently does not support direct coding of multiple-factor designs. The `condition` variable in the data frame currently codes both factors and therefore needs to be split into two columns:"
   ]
  },
  {
   "cell_type": "code",
   "execution_count": 15,
   "metadata": {
    "collapsed": false
   },
   "outputs": [
    {
     "data": {
      "text/html": [
       "<div>\n",
       "<style scoped>\n",
       "    .dataframe tbody tr th:only-of-type {\n",
       "        vertical-align: middle;\n",
       "    }\n",
       "\n",
       "    .dataframe tbody tr th {\n",
       "        vertical-align: top;\n",
       "    }\n",
       "\n",
       "    .dataframe thead th {\n",
       "        text-align: right;\n",
       "    }\n",
       "</style>\n",
       "<table border=\"1\" class=\"dataframe\">\n",
       "  <thead>\n",
       "    <tr style=\"text-align: right;\">\n",
       "      <th></th>\n",
       "      <th>choice</th>\n",
       "      <th>repeat</th>\n",
       "      <th>rt</th>\n",
       "      <th>subject</th>\n",
       "      <th>trial</th>\n",
       "      <th>item_value_0</th>\n",
       "      <th>gaze_0</th>\n",
       "      <th>item_value_1</th>\n",
       "      <th>gaze_1</th>\n",
       "      <th>item_value_2</th>\n",
       "      <th>gaze_2</th>\n",
       "      <th>condition</th>\n",
       "      <th>bias</th>\n",
       "      <th>speed</th>\n",
       "    </tr>\n",
       "  </thead>\n",
       "  <tbody>\n",
       "    <tr>\n",
       "      <th>0</th>\n",
       "      <td>2.0</td>\n",
       "      <td>0.0</td>\n",
       "      <td>1430.0</td>\n",
       "      <td>0.0</td>\n",
       "      <td>0.0</td>\n",
       "      <td>8</td>\n",
       "      <td>0.133815</td>\n",
       "      <td>7</td>\n",
       "      <td>0.430113</td>\n",
       "      <td>8</td>\n",
       "      <td>0.436072</td>\n",
       "      <td>high_fast</td>\n",
       "      <td>high</td>\n",
       "      <td>fast</td>\n",
       "    </tr>\n",
       "    <tr>\n",
       "      <th>1</th>\n",
       "      <td>0.0</td>\n",
       "      <td>0.0</td>\n",
       "      <td>1744.0</td>\n",
       "      <td>0.0</td>\n",
       "      <td>1.0</td>\n",
       "      <td>1</td>\n",
       "      <td>0.423586</td>\n",
       "      <td>0</td>\n",
       "      <td>0.394485</td>\n",
       "      <td>5</td>\n",
       "      <td>0.181930</td>\n",
       "      <td>high_fast</td>\n",
       "      <td>high</td>\n",
       "      <td>fast</td>\n",
       "    </tr>\n",
       "    <tr>\n",
       "      <th>2</th>\n",
       "      <td>1.0</td>\n",
       "      <td>0.0</td>\n",
       "      <td>1623.0</td>\n",
       "      <td>0.0</td>\n",
       "      <td>2.0</td>\n",
       "      <td>4</td>\n",
       "      <td>0.083598</td>\n",
       "      <td>1</td>\n",
       "      <td>0.845511</td>\n",
       "      <td>5</td>\n",
       "      <td>0.070891</td>\n",
       "      <td>high_fast</td>\n",
       "      <td>high</td>\n",
       "      <td>fast</td>\n",
       "    </tr>\n",
       "    <tr>\n",
       "      <th>3</th>\n",
       "      <td>1.0</td>\n",
       "      <td>0.0</td>\n",
       "      <td>1403.0</td>\n",
       "      <td>0.0</td>\n",
       "      <td>3.0</td>\n",
       "      <td>4</td>\n",
       "      <td>0.424859</td>\n",
       "      <td>7</td>\n",
       "      <td>0.349890</td>\n",
       "      <td>6</td>\n",
       "      <td>0.225251</td>\n",
       "      <td>high_fast</td>\n",
       "      <td>high</td>\n",
       "      <td>fast</td>\n",
       "    </tr>\n",
       "    <tr>\n",
       "      <th>4</th>\n",
       "      <td>2.0</td>\n",
       "      <td>0.0</td>\n",
       "      <td>1684.0</td>\n",
       "      <td>0.0</td>\n",
       "      <td>4.0</td>\n",
       "      <td>0</td>\n",
       "      <td>0.271260</td>\n",
       "      <td>0</td>\n",
       "      <td>0.386366</td>\n",
       "      <td>9</td>\n",
       "      <td>0.342374</td>\n",
       "      <td>high_fast</td>\n",
       "      <td>high</td>\n",
       "      <td>fast</td>\n",
       "    </tr>\n",
       "  </tbody>\n",
       "</table>\n",
       "</div>"
      ],
      "text/plain": [
       "   choice  repeat      rt  subject  trial  item_value_0    gaze_0  \\\n",
       "0     2.0     0.0  1430.0      0.0    0.0             8  0.133815   \n",
       "1     0.0     0.0  1744.0      0.0    1.0             1  0.423586   \n",
       "2     1.0     0.0  1623.0      0.0    2.0             4  0.083598   \n",
       "3     1.0     0.0  1403.0      0.0    3.0             4  0.424859   \n",
       "4     2.0     0.0  1684.0      0.0    4.0             0  0.271260   \n",
       "\n",
       "   item_value_1    gaze_1  item_value_2    gaze_2  condition  bias speed  \n",
       "0             7  0.430113             8  0.436072  high_fast  high  fast  \n",
       "1             0  0.394485             5  0.181930  high_fast  high  fast  \n",
       "2             1  0.845511             5  0.070891  high_fast  high  fast  \n",
       "3             7  0.349890             6  0.225251  high_fast  high  fast  \n",
       "4             0  0.386366             9  0.342374  high_fast  high  fast  "
      ]
     },
     "execution_count": 15,
     "metadata": {},
     "output_type": "execute_result"
    }
   ],
   "source": [
    "dependence_model.data['bias'], dependence_model.data['speed'] = dependence_model.data['condition'].str.split('_', 1).str\n",
    "dependence_model.data.head()"
   ]
  },
  {
   "cell_type": "markdown",
   "metadata": {},
   "source": [
    "# Exploring data"
   ]
  },
  {
   "cell_type": "markdown",
   "metadata": {},
   "source": [
    "Next, we look at the behavioral data, by plotting the data separately for the speed & bias conditions. The aggregate data are plotted in black, whereas condition-specific data are plotted in color.\n",
    "\n",
    "From left to right, we see: (A) mean response times (in ms), (B) mean probability of choosing the left item as a function of the item's liking rating, (C) mean probability of choosing the left item as a function of the difference between the item's gaze and the mean gaze of all other items, (D) mean probability of choosing the left item as a function of the difference between the item's gaze and the mean gaze of all other items, when corrected for the influence of item rating on choice probability (for further details, see Thomas, Molter, Krajbich, Heekeren & Mohr, 2017)."
   ]
  },
  {
   "cell_type": "markdown",
   "metadata": {},
   "source": [
    "### Fast & Slow Speed"
   ]
  },
  {
   "cell_type": "markdown",
   "metadata": {},
   "source": [
    "As expected, the data data of both speed-conditions matchs in all analyses, except for the response times (panel A)."
   ]
  },
  {
   "cell_type": "code",
   "execution_count": 16,
   "metadata": {
    "collapsed": false,
    "scrolled": false
   },
   "outputs": [
    {
     "data": {
      "image/png": "[encoded data removed]",
      "text/plain": [
       "<matplotlib.figure.Figure at 0x120d259b0>"
      ]
     },
     "metadata": {},
     "output_type": "display_data"
    }
   ],
   "source": [
    "glam.plot_fit(dependence_model.data, [dependence_model.data[dependence_model.data['speed'] == 'fast'],\n",
    "                                      dependence_model.data[dependence_model.data['speed'] == 'slow']],\n",
    "              prediction_labels=['fast', 'slow']);"
   ]
  },
  {
   "cell_type": "markdown",
   "metadata": {},
   "source": [
    "### High & Low Bias"
   ]
  },
  {
   "cell_type": "markdown",
   "metadata": {},
   "source": [
    "Similarly, the data  in both bias-conditions matches in response times, but differs in all analysis of the gaze bias (C - D). \n",
    "\n",
    "Interestingly, there is also a substantial difference between both bias-groups in their probability of choosing an item, given the item's rating value (B). This relationship can be explained as follows: if (1) an individual's choices are strongly dependent on the allocation of gaze during the decision process, and (2) the gaze of the individual is allocated independent of the items' rating values, then the effect of item rating on the individuals' choices can be suppressed by the strong association of gaze and choice. Therefore, we expect individuals to have a lower association of item rating and choice, if their association of gaze and choice is strong and their gaze is distributed independent of item rating."
   ]
  },
  {
   "cell_type": "code",
   "execution_count": 17,
   "metadata": {
    "collapsed": false
   },
   "outputs": [
    {
     "data": {
      "image/png": "[encoded data removed]",
      "text/plain": [
       "<matplotlib.figure.Figure at 0x120d832b0>"
      ]
     },
     "metadata": {},
     "output_type": "display_data"
    }
   ],
   "source": [
    "glam.plot_fit(dependence_model.data, [dependence_model.data[dependence_model.data['bias'] == 'high'],\n",
    "                                      dependence_model.data[dependence_model.data['bias'] == 'low']],\n",
    "              prediction_labels=['high-bias', 'low-bias']);"
   ]
  },
  {
   "cell_type": "markdown",
   "metadata": {},
   "source": [
    "# Model fitting\n",
    "\n",
    "### Model set up\n",
    "\n",
    "Next, we need to specify the exact model to fit to the data. We need to indicate that the gaze-bias parameter $\\gamma$ shall depend on the `bias` condition of our data, and the velocity parameter $v$ on the `speed` condition.\n",
    "\n",
    "We also have to choose whether we want to fit the model hierarchically to all of our participants, or to each individual participant alone. We choose the individual model here."
   ]
  },
  {
   "cell_type": "code",
   "execution_count": 18,
   "metadata": {
    "collapsed": true
   },
   "outputs": [],
   "source": [
    "# create alternative model that will not have any parameter dependences\n",
    "import copy\n",
    "independence_model = copy.copy(dependence_model)"
   ]
  },
  {
   "cell_type": "code",
   "execution_count": 19,
   "metadata": {
    "collapsed": false
   },
   "outputs": [
    {
     "name": "stdout",
     "output_type": "stream",
     "text": [
      "Adding \"behavioral_indices\" to GLAM.\n"
     ]
    },
    {
     "name": "stderr",
     "output_type": "stream",
     "text": [
      "/Users/armin/anaconda3/lib/python3.5/site-packages/statsmodels/compat/pandas.py:56: FutureWarning: The pandas.core.datetools module is deprecated and will be removed in a future version. Please use the pandas.tseries module instead.\n",
      "  from pandas.core import datetools\n"
     ]
    },
    {
     "name": "stdout",
     "output_type": "stream",
     "text": [
      "Generating single subject models for 3 subjects...\n"
     ]
    }
   ],
   "source": [
    "dependence_model.make_model(kind='individual',\n",
    "                            depends_on=dict(gamma='bias',\n",
    "                                            v='speed'),\n",
    "                            t0_val=0) # we did not simulate any non-decision time and therefore fix t0 = 0b"
   ]
  },
  {
   "cell_type": "code",
   "execution_count": 20,
   "metadata": {
    "collapsed": false
   },
   "outputs": [
    {
     "name": "stdout",
     "output_type": "stream",
     "text": [
      "Adding \"behavioral_indices\" to GLAM.\n",
      "Generating single subject models for 3 subjects...\n"
     ]
    }
   ],
   "source": [
    "independence_model.make_model(kind='individual', t0_val=0)"
   ]
  },
  {
   "cell_type": "markdown",
   "metadata": {},
   "source": [
    "### Parameter estimation\n",
    "\n",
    "The model is specified. Now the parameters can be estimated. `GLAMbox` implements the model as a `pymc3` model object, that can be fit with all fitting procedures included in `pymc3`. For individual models, we recommend the No-U-Turn Sampler (NUTS; XXX)."
   ]
  },
  {
   "cell_type": "code",
   "execution_count": 21,
   "metadata": {
    "collapsed": false
   },
   "outputs": [
    {
     "name": "stdout",
     "output_type": "stream",
     "text": [
      "Fitting 3 model(s) using NUTS...\n",
      "  Fitting model 1 of 3...\n"
     ]
    },
    {
     "name": "stderr",
     "output_type": "stream",
     "text": [
      "/Users/armin/anaconda3/lib/python3.5/site-packages/pymc3/model.py:384: FutureWarning: Conversion of the second argument of issubdtype from `float` to `np.floating` is deprecated. In future, it will be treated as `np.float64 == np.dtype(float).type`.\n",
      "  if not np.issubdtype(var.dtype, float):\n",
      "100%|██████████| 1000/1000 [00:10<00:00, 98.42it/s]\n",
      "/Users/armin/anaconda3/lib/python3.5/site-packages/pymc3/model.py:384: FutureWarning: Conversion of the second argument of issubdtype from `float` to `np.floating` is deprecated. In future, it will be treated as `np.float64 == np.dtype(float).type`.\n",
      "  if not np.issubdtype(var.dtype, float):\n"
     ]
    },
    {
     "name": "stdout",
     "output_type": "stream",
     "text": [
      "  Fitting model 2 of 3...\n"
     ]
    },
    {
     "name": "stderr",
     "output_type": "stream",
     "text": [
      "100%|██████████| 1000/1000 [00:08<00:00, 112.76it/s]\n"
     ]
    },
    {
     "name": "stdout",
     "output_type": "stream",
     "text": [
      "  Fitting model 3 of 3...\n"
     ]
    },
    {
     "name": "stderr",
     "output_type": "stream",
     "text": [
      "100%|██████████| 1000/1000 [10:08<00:00,  1.64it/s]/Users/armin/anaconda3/lib/python3.5/site-packages/pymc3/step_methods/hmc/nuts.py:459: UserWarning: Chain 0 reached the maximum tree depth. Increase max_treedepth, increase target_accept or reparameterize.\n",
      "  'reparameterize.' % self._chain_id)\n",
      "\n"
     ]
    },
    {
     "name": "stdout",
     "output_type": "stream",
     "text": [
      "/!\\ Automatically setting parameter precision...\n"
     ]
    }
   ],
   "source": [
    "dependence_model.fit(method='NUTS', n_samples=500)"
   ]
  },
  {
   "cell_type": "code",
   "execution_count": 22,
   "metadata": {
    "collapsed": false
   },
   "outputs": [
    {
     "name": "stdout",
     "output_type": "stream",
     "text": [
      "Fitting 3 model(s) using NUTS...\n",
      "  Fitting model 1 of 3...\n"
     ]
    },
    {
     "name": "stderr",
     "output_type": "stream",
     "text": [
      "/Users/armin/anaconda3/lib/python3.5/site-packages/pymc3/model.py:384: FutureWarning: Conversion of the second argument of issubdtype from `float` to `np.floating` is deprecated. In future, it will be treated as `np.float64 == np.dtype(float).type`.\n",
      "  if not np.issubdtype(var.dtype, float):\n",
      "100%|██████████| 1000/1000 [00:07<00:00, 140.02it/s]\n"
     ]
    },
    {
     "name": "stdout",
     "output_type": "stream",
     "text": [
      "  Fitting model 2 of 3...\n"
     ]
    },
    {
     "name": "stderr",
     "output_type": "stream",
     "text": [
      "100%|██████████| 1000/1000 [00:11<00:00, 85.84it/s]\n"
     ]
    },
    {
     "name": "stdout",
     "output_type": "stream",
     "text": [
      "  Fitting model 3 of 3...\n"
     ]
    },
    {
     "name": "stderr",
     "output_type": "stream",
     "text": [
      "100%|██████████| 1000/1000 [00:05<00:00, 175.62it/s]\n"
     ]
    },
    {
     "name": "stdout",
     "output_type": "stream",
     "text": [
      "/!\\ Automatically setting parameter precision...\n"
     ]
    }
   ],
   "source": [
    "independence_model.fit(method='NUTS', n_samples=500)"
   ]
  },
  {
   "cell_type": "markdown",
   "metadata": {},
   "source": [
    "# model comparison"
   ]
  },
  {
   "cell_type": "code",
   "execution_count": 26,
   "metadata": {
    "collapsed": false
   },
   "outputs": [],
   "source": [
    "ic = 'WAIC'\n",
    "comparison_result = glam.utils.compare(dependence_model, independence_model, ic=ic)"
   ]
  },
  {
   "cell_type": "markdown",
   "metadata": {},
   "source": [
    "## Analysis\n",
    "\n",
    "### Parameter recovery\n",
    "\n",
    "Now that the model parameters are estimated, we want to test whether the model properly recovered the group-specific condition parameters (i.e. $v$ and $\\gamma$). \n",
    "\n",
    ".. on individual level"
   ]
  },
  {
   "cell_type": "code",
   "execution_count": null,
   "metadata": {
    "collapsed": false
   },
   "outputs": [],
   "source": [
    "bins = np.linspace(-1, 1, 100)\n",
    "\n",
    "fig, ax = plt.subplots()\n",
    "\n",
    "for i, bias in enumerate(['high', 'low']):\n",
    "    ax.hist(model.trace['gamma_{}_mu'.format(bias)], bins=bins,\n",
    "            histtype='stepfilled', alpha=0.5, color='C{}'.format(i),\n",
    "            label=bias, normed=True)\n",
    "    \n",
    "    ax.axvline(gamma[bias].mean(), color='C{}'.format(i))\n",
    "    \n",
    "ax.legend(frameon=False)\n",
    "ax.set_xlabel(r'$\\gamma$')\n",
    "ax.set_ylabel('Posterior probability')\n",
    "ax.set_title(r'Posterior of $\\gamma$ group means');"
   ]
  },
  {
   "cell_type": "markdown",
   "metadata": {},
   "source": [
    "Similarly, we see that the model correctly estimates and separates our empricial speed (i.e. $v$) group means."
   ]
  },
  {
   "cell_type": "code",
   "execution_count": null,
   "metadata": {
    "collapsed": false
   },
   "outputs": [],
   "source": [
    "bins = np.linspace(0, 0.0002, 100)\n",
    "\n",
    "fig, ax = plt.subplots()\n",
    "\n",
    "for i, speed in enumerate(['fast', 'slow']):\n",
    "    ax.hist(model.trace['v_{}_mu'.format(speed)], bins=bins,\n",
    "            histtype='stepfilled', alpha=0.5, color='C{}'.format(i),\n",
    "            label=speed, normed=True)\n",
    "    \n",
    "    ax.axvline(v[speed].mean(), color='C{}'.format(i))\n",
    "    \n",
    "ax.legend(frameon=False)\n",
    "ax.set_xlabel(r'$v$')\n",
    "ax.set_ylabel('Posterior probability')\n",
    "ax.set_title(r'Posterior of $v$ group means');"
   ]
  },
  {
   "cell_type": "code",
   "execution_count": null,
   "metadata": {
    "collapsed": false
   },
   "outputs": [],
   "source": [
    "bins = np.linspace(0, 2, 100)\n",
    "\n",
    "fig, ax = plt.subplots()\n",
    "\n",
    "ax.hist(model.trace['tau_mu'], bins=bins,\n",
    "        histtype='stepfilled', alpha=0.5,\n",
    "        normed=True)\n",
    "\n",
    "ax.axvline(tau.mean())\n",
    "    \n",
    "ax.set_xlabel(r'$\\tau$')\n",
    "ax.set_ylabel('Posterior probability')\n",
    "ax.set_title(r'Posterior of $\\tau$ group means');"
   ]
  },
  {
   "cell_type": "code",
   "execution_count": null,
   "metadata": {
    "collapsed": false
   },
   "outputs": [],
   "source": [
    "bins = np.linspace(0, 0.02, 100)\n",
    "\n",
    "fig, ax = plt.subplots()\n",
    "\n",
    "ax.hist(model.trace['s_mu'], bins=bins,\n",
    "        histtype='stepfilled', alpha=0.5,\n",
    "        normed=True)\n",
    "\n",
    "ax.axvline(s.mean())\n",
    "\n",
    "ax.set_xlabel(r'$\\sigma$')\n",
    "ax.set_ylabel('Posterior probability')\n",
    "ax.set_title(r'Posterior of $\\sigma$ group means');"
   ]
  },
  {
   "cell_type": "code",
   "execution_count": null,
   "metadata": {
    "collapsed": true
   },
   "outputs": [],
   "source": []
  },
  {
   "cell_type": "code",
   "execution_count": null,
   "metadata": {
    "collapsed": true
   },
   "outputs": [],
   "source": []
  },
  {
   "cell_type": "code",
   "execution_count": null,
   "metadata": {
    "collapsed": true
   },
   "outputs": [],
   "source": []
  },
  {
   "cell_type": "code",
   "execution_count": null,
   "metadata": {
    "collapsed": true
   },
   "outputs": [],
   "source": []
  },
  {
   "cell_type": "markdown",
   "metadata": {},
   "source": [
    "### Prediction\n",
    "\n",
    "Next, we can test the aboslute fit of the estimated model, by simulating response data with our parameter estimates and plotting them against the previously simulated data that was used to estimate the model parameters."
   ]
  },
  {
   "cell_type": "code",
   "execution_count": null,
   "metadata": {
    "collapsed": false
   },
   "outputs": [],
   "source": [
    "# for the simulation, we repeat each trial of the original dataset 10 times.\n",
    "model.predict(n_repeats=10)\n",
    "model.prediction.head()"
   ]
  },
  {
   "cell_type": "markdown",
   "metadata": {},
   "source": [
    "### Goodnes of fit\n",
    "\n",
    "To test the goodness of fit of these predictions, we again plot the predicted data against our original data. This time, separately within each of the 4 conditoins"
   ]
  },
  {
   "cell_type": "markdown",
   "metadata": {},
   "source": [
    "#### High Bias & Fast Speed"
   ]
  },
  {
   "cell_type": "code",
   "execution_count": null,
   "metadata": {
    "collapsed": false
   },
   "outputs": [],
   "source": [
    "glam.plot_fit(model.data[np.logical_and(model.data['speed'] == 'fast',\n",
    "                                        model.data['bias'] == 'high')],\n",
    "              [model.prediction[np.logical_and(model.prediction['speed'] == 'fast',\n",
    "                                               model.prediction['bias'] == 'high')]])"
   ]
  },
  {
   "cell_type": "markdown",
   "metadata": {},
   "source": [
    "#### High Bias & Slow Speed"
   ]
  },
  {
   "cell_type": "code",
   "execution_count": null,
   "metadata": {
    "collapsed": false
   },
   "outputs": [],
   "source": [
    "glam.plot_fit(model.data[np.logical_and(model.data['speed'] == 'slow',\n",
    "                                        model.data['bias'] == 'high')],\n",
    "              [model.prediction[np.logical_and(model.prediction['speed'] == 'slow',\n",
    "                                               model.prediction['bias'] == 'high')]])"
   ]
  },
  {
   "cell_type": "markdown",
   "metadata": {},
   "source": [
    "#### Low Bias & Fast Speed"
   ]
  },
  {
   "cell_type": "code",
   "execution_count": null,
   "metadata": {
    "collapsed": false
   },
   "outputs": [],
   "source": [
    "glam.plot_fit(model.data[np.logical_and(model.data['speed'] == 'fast',\n",
    "                                        model.data['bias'] == 'low')],\n",
    "              [model.prediction[np.logical_and(model.prediction['speed'] == 'fast',\n",
    "                                               model.prediction['bias'] == 'low')]])"
   ]
  },
  {
   "cell_type": "markdown",
   "metadata": {},
   "source": [
    "#### Low Bias & Slow Speed"
   ]
  },
  {
   "cell_type": "code",
   "execution_count": null,
   "metadata": {
    "collapsed": false
   },
   "outputs": [],
   "source": [
    "glam.plot_fit(model.data[np.logical_and(model.data['speed'] == 'slow',\n",
    "                                        model.data['bias'] == 'low')],\n",
    "              [model.prediction[np.logical_and(model.prediction['speed'] == 'slow',\n",
    "                                               model.prediction['bias'] == 'low')]])"
   ]
  },
  {
   "cell_type": "markdown",
   "metadata": {},
   "source": [
    "# References\n",
    "\n",
    "- Kucukelbir, A., Ranganath, R., Gelman, A., & Blei, D. M. (2015). Automatic Variational Inference in Stan. ArXiv:1506.03431 [Stat]. Retrieved from http://arxiv.org/abs/1506.03431\n",
    "\n",
    "- Armin W. Thomas & Felix Molter, Ian Krajbich, Hauke R. Heekeren, Peter N. C. Mohr (2017)\n",
    "bioRxiv 228825; doi: https://doi.org/10.1101/228825"
   ]
  }
 ],
 "metadata": {
  "anaconda-cloud": {},
  "kernelspec": {
   "display_name": "Python [Root]",
   "language": "python",
   "name": "Python [Root]"
  }
 },
 "nbformat": 4,
 "nbformat_minor": 2
}
